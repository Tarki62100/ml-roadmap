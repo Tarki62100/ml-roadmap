{
 "cells": [
  {
   "cell_type": "code",
   "execution_count": 28,
   "id": "d832a644-3cb7-44b6-8510-5464643b75f0",
   "metadata": {},
   "outputs": [
    {
     "name": "stdout",
     "output_type": "stream",
     "text": [
      "[[ 17  23  29  35]\n",
      " [ 39  53  67  81]\n",
      " [ 61  83 105 127]\n",
      " [ 83 113 143 173]]\n",
      "[[ 17  23  29  35]\n",
      " [ 39  53  67  81]\n",
      " [ 61  83 105 127]\n",
      " [ 83 113 143 173]]\n"
     ]
    }
   ],
   "source": [
    "from os import popen\n",
    "import numpy as np\n",
    "def matrix_mult(A,B):\n",
    "    As=A.shape[0]\n",
    "    Ars=A.shape[1]\n",
    "    Bs=B.shape[1]\n",
    "    C = np.zeros((As,Bs),int)\n",
    "    for m in range(As):\n",
    "        for pop in range(Ars):\n",
    "            for i in range(Bs):\n",
    "                C[m,i] += A[m][pop] * B[pop][i]\n",
    "    return C\n",
    "                \n",
    "A = np.array([[1,2],[3,4],[5,6],[7,8]])\n",
    "B = np.array([[5,7,9,11],[6,8,10,12]])\n",
    "print(matrix_mult(A,B))\n",
    "print(np.matmul(A,B))\n",
    "\n",
    "\n",
    "\n",
    "\n",
    "            \n",
    "\n",
    "\n",
    "\n",
    "        \n",
    "\n"
   ]
  },
  {
   "cell_type": "code",
   "execution_count": 23,
   "id": "7ea2886c-765a-4d64-b7f8-78c7fb7f97f3",
   "metadata": {},
   "outputs": [
    {
     "name": "stdout",
     "output_type": "stream",
     "text": [
      "1.15 μs ± 60.4 ns per loop (mean ± std. dev. of 7 runs, 1,000,000 loops each)\n"
     ]
    }
   ],
   "source": [
    "%timeit np.matmul(A,B)"
   ]
  },
  {
   "cell_type": "code",
   "execution_count": 15,
   "id": "a1b8fe38-a44f-46be-9b94-fedea51cc1be",
   "metadata": {},
   "outputs": [
    {
     "name": "stdout",
     "output_type": "stream",
     "text": [
      "14.4 μs ± 419 ns per loop (mean ± std. dev. of 7 runs, 100,000 loops each)\n"
     ]
    }
   ],
   "source": [
    "%timeit matrix_mult(A,B)"
   ]
  },
  {
   "cell_type": "code",
   "execution_count": 26,
   "id": "0f9dcea4-c62d-401b-948b-47941ae0ec75",
   "metadata": {},
   "outputs": [
    {
     "data": {
      "text/plain": [
       "Timer unit: 1e-07 s\n",
       "\n",
       "Total time: 6.73e-05 s\n",
       "File: C:\\Users\\super\\AppData\\Local\\Temp\\ipykernel_33448\\656219176.py\n",
       "Function: matrix_mult at line 3\n",
       "\n",
       "Line #      Hits         Time  Per Hit   % Time  Line Contents\n",
       "==============================================================\n",
       "     3                                           def matrix_mult(A,B):\n",
       "     4         1         32.0     32.0      4.8      As=A.shape[0]\n",
       "     5         1          6.0      6.0      0.9      Ars=A.shape[1]\n",
       "     6         1          3.0      3.0      0.4      Bs=B.shape[1]\n",
       "     7         1         74.0     74.0     11.0      C = np.zeros((As,Bs),int)\n",
       "     8         5         24.0      4.8      3.6      for m in range(As):\n",
       "     9        12         48.0      4.0      7.1          for pop in range(Ars):\n",
       "    10        40        152.0      3.8     22.6              for i in range(Bs):\n",
       "    11        32        325.0     10.2     48.3                  C[m,i] += A[m][pop] * B[pop][i]\n",
       "    12         1          9.0      9.0      1.3      return C"
      ]
     },
     "metadata": {},
     "output_type": "display_data"
    }
   ],
   "source": [
    "%lprun -f  matrix_mult matrix_mult(A,B)"
   ]
  },
  {
   "cell_type": "code",
   "execution_count": null,
   "id": "95db6575-b058-4d91-901a-98783b1aa637",
   "metadata": {},
   "outputs": [],
   "source": []
  }
 ],
 "metadata": {
  "kernelspec": {
   "display_name": "Python 3 (ipykernel)",
   "language": "python",
   "name": "python3"
  },
  "language_info": {
   "codemirror_mode": {
    "name": "ipython",
    "version": 3
   },
   "file_extension": ".py",
   "mimetype": "text/x-python",
   "name": "python",
   "nbconvert_exporter": "python",
   "pygments_lexer": "ipython3",
   "version": "3.13.5"
  }
 },
 "nbformat": 4,
 "nbformat_minor": 5
}
